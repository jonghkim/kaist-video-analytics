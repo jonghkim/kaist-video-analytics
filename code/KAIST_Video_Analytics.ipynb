{
  "nbformat": 4,
  "nbformat_minor": 0,
  "metadata": {
    "colab": {
      "name": "KAIST_Video_Analytics.ipynb",
      "version": "0.3.2",
      "provenance": [],
      "collapsed_sections": []
    },
    "kernelspec": {
      "name": "python3",
      "display_name": "Python 3"
    }
  },
  "cells": [
    {
      "metadata": {
        "id": "Qz0WKQylD0Dv",
        "colab_type": "text"
      },
      "cell_type": "markdown",
      "source": [
        "# KAIST Video Analytics\n",
        "\n",
        "## 0. I set my data with below names\n",
        "\n",
        "- Video: kaist.mp4\n",
        "- File Path: Gdrive > /Lecture/Video_Analytics/\n",
        "- Key JSON File Name: key.json\n",
        "\n",
        "## 1. Initial Settings\n",
        "  - Video Intelligence API Package Download\n",
        "  - Environment Variable Setting\n",
        "  - Gcloud Setting\n",
        " "
      ]
    },
    {
      "metadata": {
        "id": "ClXANxZvQvkJ",
        "colab_type": "code",
        "outputId": "9622be1a-9507-449d-fd8e-b0afc36f609d",
        "colab": {
          "base_uri": "https://localhost:8080/",
          "height": 343
        }
      },
      "cell_type": "code",
      "source": [
        "# PACKAGE INSTALL\n",
        "!pip install --upgrade google-cloud-videointelligence"
      ],
      "execution_count": 1,
      "outputs": [
        {
          "output_type": "stream",
          "text": [
            "Requirement already up-to-date: google-cloud-videointelligence in /usr/local/lib/python3.6/dist-packages (1.8.0)\n",
            "Requirement already satisfied, skipping upgrade: google-api-core[grpc]<2.0.0dev,>=1.6.0 in /usr/local/lib/python3.6/dist-packages (from google-cloud-videointelligence) (1.9.0)\n",
            "Requirement already satisfied, skipping upgrade: googleapis-common-protos!=1.5.4,<2.0dev,>=1.5.3 in /usr/local/lib/python3.6/dist-packages (from google-api-core[grpc]<2.0.0dev,>=1.6.0->google-cloud-videointelligence) (1.5.9)\n",
            "Requirement already satisfied, skipping upgrade: google-auth<2.0dev,>=0.4.0 in /usr/local/lib/python3.6/dist-packages (from google-api-core[grpc]<2.0.0dev,>=1.6.0->google-cloud-videointelligence) (1.4.2)\n",
            "Requirement already satisfied, skipping upgrade: requests<3.0.0dev,>=2.18.0 in /usr/local/lib/python3.6/dist-packages (from google-api-core[grpc]<2.0.0dev,>=1.6.0->google-cloud-videointelligence) (2.18.4)\n",
            "Requirement already satisfied, skipping upgrade: six>=1.10.0 in /usr/local/lib/python3.6/dist-packages (from google-api-core[grpc]<2.0.0dev,>=1.6.0->google-cloud-videointelligence) (1.11.0)\n",
            "Requirement already satisfied, skipping upgrade: setuptools>=34.0.0 in /usr/local/lib/python3.6/dist-packages (from google-api-core[grpc]<2.0.0dev,>=1.6.0->google-cloud-videointelligence) (40.9.0)\n",
            "Requirement already satisfied, skipping upgrade: protobuf>=3.4.0 in /usr/local/lib/python3.6/dist-packages (from google-api-core[grpc]<2.0.0dev,>=1.6.0->google-cloud-videointelligence) (3.7.1)\n",
            "Requirement already satisfied, skipping upgrade: pytz in /usr/local/lib/python3.6/dist-packages (from google-api-core[grpc]<2.0.0dev,>=1.6.0->google-cloud-videointelligence) (2018.9)\n",
            "Requirement already satisfied, skipping upgrade: grpcio>=1.8.2; extra == \"grpc\" in /usr/local/lib/python3.6/dist-packages (from google-api-core[grpc]<2.0.0dev,>=1.6.0->google-cloud-videointelligence) (1.15.0)\n",
            "Requirement already satisfied, skipping upgrade: cachetools>=2.0.0 in /usr/local/lib/python3.6/dist-packages (from google-auth<2.0dev,>=0.4.0->google-api-core[grpc]<2.0.0dev,>=1.6.0->google-cloud-videointelligence) (3.1.0)\n",
            "Requirement already satisfied, skipping upgrade: pyasn1-modules>=0.2.1 in /usr/local/lib/python3.6/dist-packages (from google-auth<2.0dev,>=0.4.0->google-api-core[grpc]<2.0.0dev,>=1.6.0->google-cloud-videointelligence) (0.2.4)\n",
            "Requirement already satisfied, skipping upgrade: rsa>=3.1.4 in /usr/local/lib/python3.6/dist-packages (from google-auth<2.0dev,>=0.4.0->google-api-core[grpc]<2.0.0dev,>=1.6.0->google-cloud-videointelligence) (4.0)\n",
            "Requirement already satisfied, skipping upgrade: certifi>=2017.4.17 in /usr/local/lib/python3.6/dist-packages (from requests<3.0.0dev,>=2.18.0->google-api-core[grpc]<2.0.0dev,>=1.6.0->google-cloud-videointelligence) (2019.3.9)\n",
            "Requirement already satisfied, skipping upgrade: idna<2.7,>=2.5 in /usr/local/lib/python3.6/dist-packages (from requests<3.0.0dev,>=2.18.0->google-api-core[grpc]<2.0.0dev,>=1.6.0->google-cloud-videointelligence) (2.6)\n",
            "Requirement already satisfied, skipping upgrade: urllib3<1.23,>=1.21.1 in /usr/local/lib/python3.6/dist-packages (from requests<3.0.0dev,>=2.18.0->google-api-core[grpc]<2.0.0dev,>=1.6.0->google-cloud-videointelligence) (1.22)\n",
            "Requirement already satisfied, skipping upgrade: chardet<3.1.0,>=3.0.2 in /usr/local/lib/python3.6/dist-packages (from requests<3.0.0dev,>=2.18.0->google-api-core[grpc]<2.0.0dev,>=1.6.0->google-cloud-videointelligence) (3.0.4)\n",
            "Requirement already satisfied, skipping upgrade: pyasn1<0.5.0,>=0.4.1 in /usr/local/lib/python3.6/dist-packages (from pyasn1-modules>=0.2.1->google-auth<2.0dev,>=0.4.0->google-api-core[grpc]<2.0.0dev,>=1.6.0->google-cloud-videointelligence) (0.4.5)\n"
          ],
          "name": "stdout"
        }
      ]
    },
    {
      "metadata": {
        "id": "8liXN2aSEj_P",
        "colab_type": "code",
        "outputId": "e4ab69b0-35dd-4a3e-d8d5-7d289c0e0a81",
        "colab": {
          "base_uri": "https://localhost:8080/",
          "height": 122
        }
      },
      "cell_type": "code",
      "source": [
        "# GDRIVE CONNECTION\n",
        "from google.colab import drive\n",
        "drive.mount('/content/gdrive')"
      ],
      "execution_count": 2,
      "outputs": [
        {
          "output_type": "stream",
          "text": [
            "Go to this URL in a browser: https://accounts.google.com/o/oauth2/auth?client_id=947318989803-6bn6qk8qdgf4n4g3pfee6491hc0brc4i.apps.googleusercontent.com&redirect_uri=urn%3Aietf%3Awg%3Aoauth%3A2.0%3Aoob&scope=email%20https%3A%2F%2Fwww.googleapis.com%2Fauth%2Fdocs.test%20https%3A%2F%2Fwww.googleapis.com%2Fauth%2Fdrive%20https%3A%2F%2Fwww.googleapis.com%2Fauth%2Fdrive.photos.readonly%20https%3A%2F%2Fwww.googleapis.com%2Fauth%2Fpeopleapi.readonly&response_type=code\n",
            "\n",
            "Enter your authorization code:\n",
            "··········\n",
            "Mounted at /content/gdrive\n"
          ],
          "name": "stdout"
        }
      ]
    },
    {
      "metadata": {
        "id": "N4ni4JHqEo22",
        "colab_type": "code",
        "colab": {}
      },
      "cell_type": "code",
      "source": [
        "# SET DATA PATH\n",
        "DATA_PATH = \"/content/gdrive/My Drive/Lecture/Video_Analytics/\""
      ],
      "execution_count": 0,
      "outputs": []
    },
    {
      "metadata": {
        "id": "tC-l2TGeEwuF",
        "colab_type": "code",
        "outputId": "4871a427-e99e-4892-f463-5744fc75bafb",
        "colab": {
          "base_uri": "https://localhost:8080/",
          "height": 68
        }
      },
      "cell_type": "code",
      "source": [
        "# CHECK FILE EXIST\n",
        "!ls \"{DATA_PATH}\""
      ],
      "execution_count": 4,
      "outputs": [
        {
          "output_type": "stream",
          "text": [
            "google-cloud-sdk-228.0.0-linux-x86_64.tar.gz  key.json\n",
            "kaist.mp4\t\t\t\t      segment_df.csv\n",
            "KAIST_Video_Analytics.ipynb\t\t      shot_df.csv\n"
          ],
          "name": "stdout"
        }
      ]
    },
    {
      "metadata": {
        "id": "g-oks2IbNS8R",
        "colab_type": "code",
        "colab": {}
      },
      "cell_type": "code",
      "source": [
        "# SET ENVIRONMENT VARIABLE\n",
        "import os\n",
        "os.environ['GOOGLE_APPLICATION_CREDENTIALS'] = \"/content/gdrive/My Drive/Lecture/Video_Analytics/key.json\""
      ],
      "execution_count": 0,
      "outputs": []
    },
    {
      "metadata": {
        "id": "KSgtq_nhD4k4",
        "colab_type": "code",
        "outputId": "d58fa149-66a9-4854-c160-07219f3d23e8",
        "colab": {
          "base_uri": "https://localhost:8080/",
          "height": 34
        }
      },
      "cell_type": "code",
      "source": [
        "# CHECK ENVIRONMENT VARIABLE\n",
        "print('Credendtials from environ: {}'.format(os.environ.get('GOOGLE_APPLICATION_CREDENTIALS')))"
      ],
      "execution_count": 6,
      "outputs": [
        {
          "output_type": "stream",
          "text": [
            "Credendtials from environ: /content/gdrive/My Drive/Lecture/Video_Analytics/key.json\n"
          ],
          "name": "stdout"
        }
      ]
    },
    {
      "metadata": {
        "id": "2-1Hzd-OQ1Za",
        "colab_type": "text"
      },
      "cell_type": "markdown",
      "source": [
        "## 2. Data Import\n",
        "  - Video Data Read\n",
        " "
      ]
    },
    {
      "metadata": {
        "id": "5ij2OxkFOxFh",
        "colab_type": "code",
        "colab": {}
      },
      "cell_type": "code",
      "source": [
        "import io\n",
        "from google.cloud import videointelligence"
      ],
      "execution_count": 0,
      "outputs": []
    },
    {
      "metadata": {
        "id": "6EkSTuK_POJ-",
        "colab_type": "code",
        "colab": {}
      },
      "cell_type": "code",
      "source": [
        "# READ VIDEO DATA\n",
        "with io.open(DATA_PATH+\"kaist.mp4\", 'rb') as video:\n",
        "    input_content = video.read()"
      ],
      "execution_count": 0,
      "outputs": []
    },
    {
      "metadata": {
        "id": "AKenm_9HQ5z6",
        "colab_type": "text"
      },
      "cell_type": "markdown",
      "source": [
        "## 3. Video Intelligence Request"
      ]
    },
    {
      "metadata": {
        "id": "Jdfih67DPWq9",
        "colab_type": "code",
        "colab": {
          "base_uri": "https://localhost:8080/",
          "height": 51
        },
        "outputId": "18b46be7-73a4-4c00-81f4-beefe08f58a0"
      },
      "cell_type": "code",
      "source": [
        "# Detect labels given a file path\n",
        "video_client = videointelligence.VideoIntelligenceServiceClient()\n",
        "features = [videointelligence.enums.Feature.LABEL_DETECTION]\n",
        "\n",
        "operation = video_client.annotate_video(features=features, input_content=input_content)\n",
        "\n",
        "print('Processing video for label annotations:')\n",
        "\n",
        "result = operation.result(timeout=1500)\n",
        "\n",
        "print('Done')"
      ],
      "execution_count": 9,
      "outputs": [
        {
          "output_type": "stream",
          "text": [
            "\n",
            "Processing video for label annotations:\n"
          ],
          "name": "stdout"
        }
      ]
    },
    {
      "metadata": {
        "id": "HmyV9mfhQ9Cf",
        "colab_type": "text"
      },
      "cell_type": "markdown",
      "source": [
        "## 4. Results to CSV file"
      ]
    },
    {
      "metadata": {
        "id": "9CTSuig6PicD",
        "colab_type": "code",
        "colab": {}
      },
      "cell_type": "code",
      "source": [
        "import pandas as pd\n",
        "\n",
        "# GET SEGMENT RESULTS\n",
        "segment_labels = result.annotation_results[0].segment_label_annotations\n",
        "\n",
        "segment_list =[]\n",
        "for i, segment_label in enumerate(segment_labels):\n",
        "    for i, segment in enumerate(segment_label.segments):\n",
        "        segment_dict = {}\n",
        "        segment_dict['label'] = segment_label.entity.description\n",
        "        segment_dict['category'] = '; '.join([category_entity.description for category_entity in segment_label.category_entities])\n",
        "\n",
        "        start_time = (segment.segment.start_time_offset.seconds +\n",
        "                      segment.segment.start_time_offset.nanos / 1e9)\n",
        "        end_time = (segment.segment.end_time_offset.seconds +\n",
        "                    segment.segment.end_time_offset.nanos / 1e9)\n",
        "\n",
        "        segment_dict['start_time'] = start_time\n",
        "        segment_dict['end_time'] = end_time\n",
        "        segment_dict['confidence'] = segment.confidence        \n",
        "        segment_list.append(segment_dict)\n",
        "\n",
        "\n",
        "# GET SHOT LEVEL RESULTS\n",
        "shot_labels = result.annotation_results[0].shot_label_annotations\n",
        "\n",
        "shot_list = []\n",
        "for i, shot_label in enumerate(shot_labels):\n",
        "    for i, shot in enumerate(shot_label.segments):\n",
        "        shot_dict = {}\n",
        "        shot_dict['label'] = shot_label.entity.description\n",
        "        shot_dict['category'] = '; '.join([category_entity.description for category_entity in shot_label.category_entities])\n",
        "\n",
        "        start_time = (shot.segment.start_time_offset.seconds +\n",
        "                      shot.segment.start_time_offset.nanos / 1e9)\n",
        "        end_time = (shot.segment.end_time_offset.seconds +\n",
        "                    shot.segment.end_time_offset.nanos / 1e9)\n",
        "\n",
        "        shot_dict['start_time'] = start_time\n",
        "        shot_dict['end_time'] = end_time\n",
        "        shot_dict['confidence'] = shot.confidence        \n",
        "        shot_list.append(shot_dict)\n",
        "\n",
        "# LIST TO PANDAS DATAFRAME\n",
        "segment_df = pd.DataFrame(segment_list)\n",
        "shot_df = pd.DataFrame(shot_list)    "
      ],
      "execution_count": 0,
      "outputs": []
    },
    {
      "metadata": {
        "id": "E0rHK1mrPxdO",
        "colab_type": "code",
        "outputId": "78af8071-bf7e-4f4b-b3f3-702f8ba8202c",
        "colab": {
          "base_uri": "https://localhost:8080/",
          "height": 111
        }
      },
      "cell_type": "code",
      "source": [
        "# SAMPLE OF DATA\n",
        "segment_df.head()"
      ],
      "execution_count": 16,
      "outputs": [
        {
          "output_type": "execute_result",
          "data": {
            "text/html": [
              "<div>\n",
              "<style scoped>\n",
              "    .dataframe tbody tr th:only-of-type {\n",
              "        vertical-align: middle;\n",
              "    }\n",
              "\n",
              "    .dataframe tbody tr th {\n",
              "        vertical-align: top;\n",
              "    }\n",
              "\n",
              "    .dataframe thead th {\n",
              "        text-align: right;\n",
              "    }\n",
              "</style>\n",
              "<table border=\"1\" class=\"dataframe\">\n",
              "  <thead>\n",
              "    <tr style=\"text-align: right;\">\n",
              "      <th></th>\n",
              "      <th>category</th>\n",
              "      <th>confidence</th>\n",
              "      <th>end_time</th>\n",
              "      <th>label</th>\n",
              "      <th>start_time</th>\n",
              "    </tr>\n",
              "  </thead>\n",
              "  <tbody>\n",
              "    <tr>\n",
              "      <th>0</th>\n",
              "      <td>person</td>\n",
              "      <td>0.772873</td>\n",
              "      <td>52.018633</td>\n",
              "      <td>presentation</td>\n",
              "      <td>0.0</td>\n",
              "    </tr>\n",
              "    <tr>\n",
              "      <th>1</th>\n",
              "      <td></td>\n",
              "      <td>0.553012</td>\n",
              "      <td>52.018633</td>\n",
              "      <td>media</td>\n",
              "      <td>0.0</td>\n",
              "    </tr>\n",
              "  </tbody>\n",
              "</table>\n",
              "</div>"
            ],
            "text/plain": [
              "  category  confidence   end_time         label  start_time\n",
              "0   person    0.772873  52.018633  presentation         0.0\n",
              "1             0.553012  52.018633         media         0.0"
            ]
          },
          "metadata": {
            "tags": []
          },
          "execution_count": 16
        }
      ]
    },
    {
      "metadata": {
        "id": "CbqGDcwKPqbj",
        "colab_type": "code",
        "outputId": "27cfbcc1-5517-4c53-c552-b399000e9580",
        "colab": {
          "base_uri": "https://localhost:8080/",
          "height": 204
        }
      },
      "cell_type": "code",
      "source": [
        "# SAMPLE OF DATA\n",
        "shot_df.head()"
      ],
      "execution_count": 17,
      "outputs": [
        {
          "output_type": "execute_result",
          "data": {
            "text/html": [
              "<div>\n",
              "<style scoped>\n",
              "    .dataframe tbody tr th:only-of-type {\n",
              "        vertical-align: middle;\n",
              "    }\n",
              "\n",
              "    .dataframe tbody tr th {\n",
              "        vertical-align: top;\n",
              "    }\n",
              "\n",
              "    .dataframe thead th {\n",
              "        text-align: right;\n",
              "    }\n",
              "</style>\n",
              "<table border=\"1\" class=\"dataframe\">\n",
              "  <thead>\n",
              "    <tr style=\"text-align: right;\">\n",
              "      <th></th>\n",
              "      <th>category</th>\n",
              "      <th>confidence</th>\n",
              "      <th>end_time</th>\n",
              "      <th>label</th>\n",
              "      <th>start_time</th>\n",
              "    </tr>\n",
              "  </thead>\n",
              "  <tbody>\n",
              "    <tr>\n",
              "      <th>0</th>\n",
              "      <td></td>\n",
              "      <td>0.664603</td>\n",
              "      <td>12.379033</td>\n",
              "      <td>media</td>\n",
              "      <td>5.872533</td>\n",
              "    </tr>\n",
              "    <tr>\n",
              "      <th>1</th>\n",
              "      <td></td>\n",
              "      <td>0.561513</td>\n",
              "      <td>18.051366</td>\n",
              "      <td>media</td>\n",
              "      <td>12.412400</td>\n",
              "    </tr>\n",
              "    <tr>\n",
              "      <th>2</th>\n",
              "      <td></td>\n",
              "      <td>0.785851</td>\n",
              "      <td>20.987633</td>\n",
              "      <td>media</td>\n",
              "      <td>18.084733</td>\n",
              "    </tr>\n",
              "    <tr>\n",
              "      <th>3</th>\n",
              "      <td></td>\n",
              "      <td>0.664603</td>\n",
              "      <td>24.257566</td>\n",
              "      <td>media</td>\n",
              "      <td>21.021000</td>\n",
              "    </tr>\n",
              "    <tr>\n",
              "      <th>4</th>\n",
              "      <td></td>\n",
              "      <td>0.706282</td>\n",
              "      <td>28.862166</td>\n",
              "      <td>media</td>\n",
              "      <td>24.290933</td>\n",
              "    </tr>\n",
              "  </tbody>\n",
              "</table>\n",
              "</div>"
            ],
            "text/plain": [
              "  category  confidence   end_time  label  start_time\n",
              "0             0.664603  12.379033  media    5.872533\n",
              "1             0.561513  18.051366  media   12.412400\n",
              "2             0.785851  20.987633  media   18.084733\n",
              "3             0.664603  24.257566  media   21.021000\n",
              "4             0.706282  28.862166  media   24.290933"
            ]
          },
          "metadata": {
            "tags": []
          },
          "execution_count": 17
        }
      ]
    },
    {
      "metadata": {
        "id": "GLY0eV_URGK_",
        "colab_type": "code",
        "colab": {}
      },
      "cell_type": "code",
      "source": [
        "# DATA to CSV\n",
        "segment_df.to_csv(DATA_PATH+\"segment_df.csv\")\n",
        "shot_df.to_csv(DATA_PATH+\"shot_df.csv\")"
      ],
      "execution_count": 0,
      "outputs": []
    }
  ]
}